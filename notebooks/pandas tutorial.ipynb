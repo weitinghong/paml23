{
 "cells": [
  {
   "cell_type": "code",
   "execution_count": 1,
   "id": "40956bba",
   "metadata": {},
   "outputs": [],
   "source": [
    "import pandas as pd"
   ]
  },
  {
   "cell_type": "markdown",
   "id": "333e61b3",
   "metadata": {},
   "source": [
    "# Read .csv file"
   ]
  },
  {
   "cell_type": "code",
   "execution_count": 3,
   "id": "5e110215",
   "metadata": {},
   "outputs": [],
   "source": [
    "data = pd.read_csv('../datasets/housing/housing_paml.csv')"
   ]
  },
  {
   "cell_type": "code",
   "execution_count": 4,
   "id": "7a2268e5",
   "metadata": {},
   "outputs": [
    {
     "name": "stdout",
     "output_type": "stream",
     "text": [
      "          longitude      latitude  housing_median_age   total_rooms  \\\n",
      "count  20634.000000  20622.000000        20628.000000  20633.000000   \n",
      "mean    -119.568930     35.629984           28.627400   2636.036640   \n",
      "std        2.003309      2.135938           12.578766   2181.812336   \n",
      "min     -124.350000     32.540000            1.000000      2.000000   \n",
      "25%     -121.797500     33.930000           18.000000   1448.000000   \n",
      "50%     -118.490000     34.250000           29.000000   2127.000000   \n",
      "75%     -118.010000     37.710000           37.000000   3148.000000   \n",
      "max     -114.310000     41.950000           52.000000  39320.000000   \n",
      "\n",
      "       total_bedrooms    population    households  median_income  \\\n",
      "count    20412.000000  20623.000000  20632.000000   20628.000000   \n",
      "mean       537.973104   1425.785822    499.615161       3.871190   \n",
      "std        421.485694   1132.484600    382.380686       1.899747   \n",
      "min          1.000000      3.000000      1.000000       0.499900   \n",
      "25%        296.000000    788.000000    280.000000       2.563975   \n",
      "50%        435.000000   1167.000000    409.000000       3.535250   \n",
      "75%        647.000000   1725.000000    605.000000       4.743775   \n",
      "max       6445.000000  35682.000000   6082.000000      15.000100   \n",
      "\n",
      "       median_house_value  \n",
      "count        20636.000000  \n",
      "mean        206857.824239  \n",
      "std         115403.235750  \n",
      "min          14999.000000  \n",
      "25%         119600.000000  \n",
      "50%         179700.000000  \n",
      "75%         264725.000000  \n",
      "max         500001.000000  \n"
     ]
    }
   ],
   "source": [
    "print(data.describe())"
   ]
  },
  {
   "cell_type": "markdown",
   "id": "ea351b96",
   "metadata": {},
   "source": [
    "# Accessing the data"
   ]
  },
  {
   "cell_type": "code",
   "execution_count": 9,
   "id": "38078aed",
   "metadata": {},
   "outputs": [
    {
     "name": "stdout",
     "output_type": "stream",
     "text": [
      "0         322.0\n",
      "1        2401.0\n",
      "2         496.0\n",
      "3         558.0\n",
      "4         565.0\n",
      "          ...  \n",
      "20635     845.0\n",
      "20636     356.0\n",
      "20637    1007.0\n",
      "20638     741.0\n",
      "20639    1387.0\n",
      "Name: population, Length: 20640, dtype: float64\n"
     ]
    }
   ],
   "source": [
    "print(data['population'])"
   ]
  },
  {
   "cell_type": "code",
   "execution_count": 7,
   "id": "be4d002a",
   "metadata": {},
   "outputs": [
    {
     "name": "stdout",
     "output_type": "stream",
     "text": [
      "0         322.0\n",
      "1        2401.0\n",
      "2         496.0\n",
      "3         558.0\n",
      "4         565.0\n",
      "          ...  \n",
      "20635     845.0\n",
      "20636     356.0\n",
      "20637    1007.0\n",
      "20638     741.0\n",
      "20639    1387.0\n",
      "Name: population, Length: 20640, dtype: float64\n"
     ]
    }
   ],
   "source": [
    "print(data.population)"
   ]
  },
  {
   "cell_type": "code",
   "execution_count": 10,
   "id": "2a021213",
   "metadata": {},
   "outputs": [
    {
     "name": "stdout",
     "output_type": "stream",
     "text": [
      "322.0\n"
     ]
    }
   ],
   "source": [
    "print(data['population'][0])"
   ]
  },
  {
   "cell_type": "code",
   "execution_count": 11,
   "id": "30cd0021",
   "metadata": {},
   "outputs": [
    {
     "name": "stdout",
     "output_type": "stream",
     "text": [
      "20640\n"
     ]
    }
   ],
   "source": [
    "print(len(data['population']))"
   ]
  },
  {
   "cell_type": "code",
   "execution_count": 12,
   "id": "3216bf6f",
   "metadata": {},
   "outputs": [
    {
     "name": "stdout",
     "output_type": "stream",
     "text": [
      "   longitude  latitude  housing_median_age  total_rooms  total_bedrooms  \\\n",
      "0    -122.23     37.88                41.0        880.0           129.0   \n",
      "1    -122.22     37.86                21.0       7099.0          1106.0   \n",
      "2    -122.24     37.85                52.0       1467.0           190.0   \n",
      "3    -122.25     37.85                52.0       1274.0           235.0   \n",
      "4    -122.25     37.85                52.0       1627.0           280.0   \n",
      "\n",
      "   population  households  median_income  median_house_value ocean_proximity  \n",
      "0       322.0       126.0         8.3252            452600.0        NEAR BAY  \n",
      "1      2401.0      1138.0         8.3014            358500.0        NEAR BAY  \n",
      "2       496.0       177.0         7.2574            352100.0        NEAR BAY  \n",
      "3       558.0       219.0         5.6431            341300.0        NEAR BAY  \n",
      "4       565.0       259.0         3.8462            342200.0             NaN  \n"
     ]
    }
   ],
   "source": [
    "print(data.head())"
   ]
  },
  {
   "cell_type": "code",
   "execution_count": 16,
   "id": "a4e4387b",
   "metadata": {},
   "outputs": [
    {
     "name": "stdout",
     "output_type": "stream",
     "text": [
      "   longitude  latitude  housing_median_age  total_rooms  total_bedrooms  \\\n",
      "2    -122.24     37.85                52.0       1467.0           190.0   \n",
      "3    -122.25     37.85                52.0       1274.0           235.0   \n",
      "4    -122.25     37.85                52.0       1627.0           280.0   \n",
      "\n",
      "   population  households  median_income  median_house_value ocean_proximity  \n",
      "2       496.0       177.0         7.2574            352100.0        NEAR BAY  \n",
      "3       558.0       219.0         5.6431            341300.0        NEAR BAY  \n",
      "4       565.0       259.0         3.8462            342200.0             NaN  \n"
     ]
    }
   ],
   "source": [
    "#loc selects rows for elements indexes 2 --> 4 \n",
    "print(data.loc[2:4])"
   ]
  },
  {
   "cell_type": "code",
   "execution_count": 15,
   "id": "457dcd46",
   "metadata": {},
   "outputs": [
    {
     "name": "stdout",
     "output_type": "stream",
     "text": [
      "2    37.85\n",
      "3    37.85\n",
      "4    37.85\n",
      "Name: latitude, dtype: float64\n"
     ]
    }
   ],
   "source": [
    "print(data.loc[2:4]['latitude'])"
   ]
  },
  {
   "cell_type": "code",
   "execution_count": 17,
   "id": "79f3969a",
   "metadata": {},
   "outputs": [
    {
     "name": "stdout",
     "output_type": "stream",
     "text": [
      "   longitude  latitude  housing_median_age  total_rooms  total_bedrooms  \\\n",
      "0    -122.23     37.88                41.0        880.0           129.0   \n",
      "1    -122.22     37.86                21.0       7099.0          1106.0   \n",
      "2    -122.24     37.85                52.0       1467.0           190.0   \n",
      "3    -122.25     37.85                52.0       1274.0           235.0   \n",
      "4    -122.25     37.85                52.0       1627.0           280.0   \n",
      "\n",
      "   population  households  median_income  median_house_value ocean_proximity  \n",
      "0       322.0       126.0         8.3252            452600.0        NEAR BAY  \n",
      "1      2401.0      1138.0         8.3014            358500.0        NEAR BAY  \n",
      "2       496.0       177.0         7.2574            352100.0        NEAR BAY  \n",
      "3       558.0       219.0         5.6431            341300.0        NEAR BAY  \n",
      "4       565.0       259.0         3.8462            342200.0             NaN  \n"
     ]
    }
   ],
   "source": [
    "print(data.head())"
   ]
  },
  {
   "cell_type": "code",
   "execution_count": 18,
   "id": "3bf6690d",
   "metadata": {},
   "outputs": [
    {
     "name": "stdout",
     "output_type": "stream",
     "text": [
      "   longitude  latitude  housing_median_age  total_rooms  total_bedrooms  \\\n",
      "0    -122.23     37.88                41.0        880.0           129.0   \n",
      "2    -122.24     37.85                52.0       1467.0           190.0   \n",
      "4    -122.25     37.85                52.0       1627.0           280.0   \n",
      "\n",
      "   population  households  median_income  median_house_value ocean_proximity  \n",
      "0       322.0       126.0         8.3252            452600.0        NEAR BAY  \n",
      "2       496.0       177.0         7.2574            352100.0        NEAR BAY  \n",
      "4       565.0       259.0         3.8462            342200.0             NaN  \n"
     ]
    }
   ],
   "source": [
    "print(data.iloc[[0,2,4]])"
   ]
  },
  {
   "cell_type": "code",
   "execution_count": 19,
   "id": "d5a01579",
   "metadata": {},
   "outputs": [
    {
     "name": "stdout",
     "output_type": "stream",
     "text": [
      "0    8.3252\n",
      "2    7.2574\n",
      "4    3.8462\n",
      "Name: median_income, dtype: float64\n"
     ]
    }
   ],
   "source": [
    "print(data.iloc[[0,2,4]]['median_income'])"
   ]
  },
  {
   "cell_type": "code",
   "execution_count": 20,
   "id": "bd355e7f",
   "metadata": {},
   "outputs": [
    {
     "name": "stdout",
     "output_type": "stream",
     "text": [
      "   longitude  latitude  housing_median_age  total_rooms  total_bedrooms  \\\n",
      "0    -122.23     37.88                41.0        880.0           129.0   \n",
      "1    -122.22     37.86                21.0       7099.0          1106.0   \n",
      "2    -122.24     37.85                52.0       1467.0           190.0   \n",
      "3    -122.25     37.85                52.0       1274.0           235.0   \n",
      "4    -122.25     37.85                52.0       1627.0           280.0   \n",
      "\n",
      "   population  households  median_income  median_house_value ocean_proximity  \n",
      "0       322.0       126.0         8.3252            452600.0        NEAR BAY  \n",
      "1      2401.0      1138.0         8.3014            358500.0        NEAR BAY  \n",
      "2       496.0       177.0         7.2574            352100.0        NEAR BAY  \n",
      "3       558.0       219.0         5.6431            341300.0        NEAR BAY  \n",
      "4       565.0       259.0         3.8462            342200.0             NaN  \n"
     ]
    }
   ],
   "source": [
    "print(data.head())"
   ]
  },
  {
   "cell_type": "code",
   "execution_count": 22,
   "id": "954dca17",
   "metadata": {},
   "outputs": [
    {
     "name": "stdout",
     "output_type": "stream",
     "text": [
      "   longitude  latitude\n",
      "0    -122.23     37.88\n",
      "1    -122.22     37.86\n",
      "2    -122.24     37.85\n"
     ]
    }
   ],
   "source": [
    "# data.iloc[start_row:end_row,start_col:end_col]\n",
    "print(data.iloc[0:3,0:2])"
   ]
  },
  {
   "cell_type": "code",
   "execution_count": 23,
   "id": "76ace918",
   "metadata": {},
   "outputs": [],
   "source": [
    "# Check for Nan"
   ]
  },
  {
   "cell_type": "code",
   "execution_count": 24,
   "id": "83ba84cb",
   "metadata": {},
   "outputs": [
    {
     "name": "stdout",
     "output_type": "stream",
     "text": [
      "   longitude  latitude  housing_median_age  total_rooms  total_bedrooms  \\\n",
      "0    -122.23     37.88                41.0        880.0           129.0   \n",
      "1    -122.22     37.86                21.0       7099.0          1106.0   \n",
      "2    -122.24     37.85                52.0       1467.0           190.0   \n",
      "3    -122.25     37.85                52.0       1274.0           235.0   \n",
      "4    -122.25     37.85                52.0       1627.0           280.0   \n",
      "\n",
      "   population  households  median_income  median_house_value ocean_proximity  \n",
      "0       322.0       126.0         8.3252            452600.0        NEAR BAY  \n",
      "1      2401.0      1138.0         8.3014            358500.0        NEAR BAY  \n",
      "2       496.0       177.0         7.2574            352100.0        NEAR BAY  \n",
      "3       558.0       219.0         5.6431            341300.0        NEAR BAY  \n",
      "4       565.0       259.0         3.8462            342200.0             NaN  \n"
     ]
    }
   ],
   "source": [
    "print(data.head())"
   ]
  },
  {
   "cell_type": "code",
   "execution_count": 25,
   "id": "d8d454e3",
   "metadata": {},
   "outputs": [
    {
     "name": "stdout",
     "output_type": "stream",
     "text": [
      "0        False\n",
      "1        False\n",
      "2        False\n",
      "3        False\n",
      "4        False\n",
      "         ...  \n",
      "20635    False\n",
      "20636    False\n",
      "20637    False\n",
      "20638    False\n",
      "20639    False\n",
      "Name: housing_median_age, Length: 20640, dtype: bool\n"
     ]
    }
   ],
   "source": [
    "print(data['housing_median_age'].isna())"
   ]
  },
  {
   "cell_type": "code",
   "execution_count": 33,
   "id": "d2ee57ea",
   "metadata": {},
   "outputs": [
    {
     "name": "stdout",
     "output_type": "stream",
     "text": [
      "There are 12 Nans\n"
     ]
    }
   ],
   "source": [
    "# True = 1\n",
    "# False = 0\n",
    "print('There are {} Nans'.format(data['housing_median_age'].isna().sum()))"
   ]
  },
  {
   "cell_type": "code",
   "execution_count": 34,
   "id": "54b307df",
   "metadata": {},
   "outputs": [],
   "source": [
    "# Drop/Remove Nans\n",
    "data_na = data.dropna()"
   ]
  },
  {
   "cell_type": "code",
   "execution_count": 36,
   "id": "1e861a08",
   "metadata": {},
   "outputs": [
    {
     "name": "stdout",
     "output_type": "stream",
     "text": [
      "There are 0 Nans\n"
     ]
    }
   ],
   "source": [
    "print('There are {} Nans'.format(data_na['housing_median_age'].isna().sum()))"
   ]
  },
  {
   "cell_type": "markdown",
   "id": "3a866ad6",
   "metadata": {},
   "source": [
    "# Compute Correlation"
   ]
  },
  {
   "cell_type": "code",
   "execution_count": 37,
   "id": "cd1c8195",
   "metadata": {},
   "outputs": [],
   "source": [
    "corr = data.corr()"
   ]
  },
  {
   "cell_type": "code",
   "execution_count": 38,
   "id": "8e7c336b",
   "metadata": {},
   "outputs": [
    {
     "name": "stdout",
     "output_type": "stream",
     "text": [
      "                    longitude  latitude  housing_median_age  total_rooms  \\\n",
      "longitude            1.000000 -0.924599           -0.106605     0.044231   \n",
      "latitude            -0.924599  1.000000            0.009128    -0.035676   \n",
      "housing_median_age  -0.106605  0.009128            1.000000    -0.361014   \n",
      "total_rooms          0.044231 -0.035676           -0.361014     1.000000   \n",
      "total_bedrooms       0.069187 -0.066574           -0.320227     0.930408   \n",
      "population           0.099281 -0.108339           -0.295788     0.857058   \n",
      "households           0.054899 -0.070667           -0.302540     0.918476   \n",
      "median_income       -0.015451 -0.079031           -0.118324     0.197915   \n",
      "median_house_value  -0.046036 -0.143627            0.106464     0.134041   \n",
      "\n",
      "                    total_bedrooms  population  households  median_income  \\\n",
      "longitude                 0.069187    0.099281    0.054899      -0.015451   \n",
      "latitude                 -0.066574   -0.108339   -0.070667      -0.079031   \n",
      "housing_median_age       -0.320227   -0.295788   -0.302540      -0.118324   \n",
      "total_rooms               0.930408    0.857058    0.918476       0.197915   \n",
      "total_bedrooms            1.000000    0.877672    0.979717      -0.007374   \n",
      "population                0.877672    1.000000    0.907149       0.004640   \n",
      "households                0.979717    0.907149    1.000000       0.013007   \n",
      "median_income            -0.007374    0.004640    0.013007       1.000000   \n",
      "median_house_value        0.049949   -0.024871    0.065754       0.688046   \n",
      "\n",
      "                    median_house_value  \n",
      "longitude                    -0.046036  \n",
      "latitude                     -0.143627  \n",
      "housing_median_age            0.106464  \n",
      "total_rooms                   0.134041  \n",
      "total_bedrooms                0.049949  \n",
      "population                   -0.024871  \n",
      "households                    0.065754  \n",
      "median_income                 0.688046  \n",
      "median_house_value            1.000000  \n"
     ]
    }
   ],
   "source": [
    "print(corr)"
   ]
  },
  {
   "cell_type": "code",
   "execution_count": 39,
   "id": "f5000a89",
   "metadata": {},
   "outputs": [
    {
     "name": "stdout",
     "output_type": "stream",
     "text": [
      "0.9304079156652095\n"
     ]
    }
   ],
   "source": [
    "print(corr['total_rooms']['total_bedrooms'])"
   ]
  },
  {
   "cell_type": "code",
   "execution_count": 44,
   "id": "070f725e",
   "metadata": {},
   "outputs": [
    {
     "name": "stdout",
     "output_type": "stream",
     "text": [
      "The correlation between population and median_income is 0\n"
     ]
    }
   ],
   "source": [
    "#corr_population_median_income = data[f1].corr(data[f2])\n",
    "corr_population_median_income = data['population'].corr(data['median_income'])\n",
    "print('The correlation between %s and %s is %d'%('population','median_income',corr_population_median_income))"
   ]
  },
  {
   "cell_type": "markdown",
   "id": "30c8d1be",
   "metadata": {},
   "source": [
    "# Plot Figures"
   ]
  },
  {
   "cell_type": "code",
   "execution_count": 46,
   "id": "c21c0e02",
   "metadata": {},
   "outputs": [
    {
     "data": {
      "image/png": "[encoded data removed]",
      "text/plain": [
       "<Figure size 432x288 with 1 Axes>"
      ]
     },
     "metadata": {
      "needs_background": "light"
     },
     "output_type": "display_data"
    }
   ],
   "source": [
    "# Plot histogram\n",
    "hist_median_house_value = data['median_house_value'].plot.hist()"
   ]
  },
  {
   "cell_type": "code",
   "execution_count": null,
   "id": "27a42a38",
   "metadata": {},
   "outputs": [],
   "source": [
    "# line plot\n",
    "\n",
    "# scatter plot"
   ]
  }
 ],
 "metadata": {
  "kernelspec": {
   "display_name": "Python 3",
   "language": "python",
   "name": "python3"
  },
  "language_info": {
   "codemirror_mode": {
    "name": "ipython",
    "version": 3
   },
   "file_extension": ".py",
   "mimetype": "text/x-python",
   "name": "python",
   "nbconvert_exporter": "python",
   "pygments_lexer": "ipython3",
   "version": "3.8.8"
  }
 },
 "nbformat": 4,
 "nbformat_minor": 5
}
